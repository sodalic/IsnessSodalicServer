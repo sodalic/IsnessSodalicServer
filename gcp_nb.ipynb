{
 "metadata": {
  "language_info": {
   "codemirror_mode": {
    "name": "ipython",
    "version": 3
   },
   "file_extension": ".py",
   "mimetype": "text/x-python",
   "name": "python",
   "nbconvert_exporter": "python",
   "pygments_lexer": "ipython3",
   "version": "3.9.0-final"
  },
  "orig_nbformat": 2,
  "kernelspec": {
   "name": "Python 3.9.0 64-bit ('gcp': conda)",
   "display_name": "Python 3.9.0 64-bit ('gcp': conda)",
   "metadata": {
    "interpreter": {
     "hash": "1164add3c36aa42938440f5f8fc3556259b10beb76464de0c53a8fd606dd45dd"
    }
   }
  }
 },
 "nbformat": 4,
 "nbformat_minor": 2,
 "cells": [
  {
   "cell_type": "code",
   "execution_count": 22,
   "metadata": {},
   "outputs": [],
   "source": [
    "import gcp\n",
    "import utils"
   ]
  },
  {
   "cell_type": "code",
   "execution_count": 3,
   "metadata": {},
   "outputs": [],
   "source": [
    "os.environ['GOOGLE_APPLICATION_CREDENTIALS'] = \"/Users/joe/Dev/key/dauntless-graph-293915-0a54f42271b4.json\""
   ]
  },
  {
   "cell_type": "code",
   "execution_count": 4,
   "metadata": {},
   "outputs": [],
   "source": [
    "def implicit():\n",
    "    from google.cloud import storage\n",
    "\n",
    "    # If you don't specify credentials when constructing the client, the\n",
    "    # client library will look for credentials in the environment.\n",
    "    storage_client = storage.Client()\n",
    "\n",
    "    # Make an authenticated API request\n",
    "    buckets = list(storage_client.list_buckets())\n",
    "    print(buckets)"
   ]
  },
  {
   "cell_type": "code",
   "execution_count": 5,
   "metadata": {},
   "outputs": [
    {
     "output_type": "stream",
     "name": "stdout",
     "text": [
      "[]\n"
     ]
    }
   ],
   "source": [
    "implicit()"
   ]
  },
  {
   "cell_type": "code",
   "execution_count": 6,
   "metadata": {},
   "outputs": [],
   "source": [
    "c = gcp.get_compute_client()"
   ]
  },
  {
   "cell_type": "code",
   "execution_count": 7,
   "metadata": {},
   "outputs": [
    {
     "output_type": "stream",
     "name": "stdout",
     "text": [
      "<googleapiclient.discovery.Resource object at 0x7fe3610348e0>\n"
     ]
    }
   ],
   "source": [
    "print(c)"
   ]
  },
  {
   "cell_type": "code",
   "execution_count": 8,
   "metadata": {},
   "outputs": [],
   "source": [
    "region = \"us-east1\"\n",
    "zone = gcp.get_zone_for_region(region)"
   ]
  },
  {
   "cell_type": "code",
   "execution_count": 9,
   "metadata": {},
   "outputs": [
    {
     "output_type": "execute_result",
     "data": {
      "text/plain": [
       "'us-east1-b'"
      ]
     },
     "metadata": {},
     "execution_count": 9
    }
   ],
   "source": [
    "zone"
   ]
  },
  {
   "cell_type": "code",
   "execution_count": 10,
   "metadata": {},
   "outputs": [],
   "source": [
    "c = gcp.get_compute_client().instances()"
   ]
  },
  {
   "cell_type": "code",
   "execution_count": 11,
   "metadata": {},
   "outputs": [],
   "source": [
    "PROJECT = \"dauntless-graph-293915\""
   ]
  },
  {
   "cell_type": "code",
   "execution_count": 16,
   "metadata": {},
   "outputs": [],
   "source": [
    "name = \"gpu-isness-server-sc-p100-2\"\t\n",
    "i = gcp.get_instance(region, name)\n"
   ]
  },
  {
   "cell_type": "code",
   "execution_count": 17,
   "metadata": {},
   "outputs": [
    {
     "output_type": "execute_result",
     "data": {
      "text/plain": [
       "{'narupaStatus': False, 'status': 'UNKNOWN'}"
      ]
     },
     "metadata": {},
     "execution_count": 17
    }
   ],
   "source": [
    "i"
   ]
  },
  {
   "cell_type": "code",
   "execution_count": 14,
   "metadata": {},
   "outputs": [],
   "source": [
    "response = gcp.get_compute_client().instances().get(project=PROJECT, zone=zone, instance=name).execute()"
   ]
  },
  {
   "cell_type": "code",
   "execution_count": 15,
   "metadata": {},
   "outputs": [
    {
     "output_type": "execute_result",
     "data": {
      "text/plain": [
       "{'id': '325030160619962431',\n",
       " 'creationTimestamp': '2020-11-07T16:41:52.425-08:00',\n",
       " 'name': 'gpu-isness-server-sc-p100-2',\n",
       " 'description': '',\n",
       " 'tags': {'items': ['http-server', 'https-server'],\n",
       "  'fingerprint': '6smc4R4d39I='},\n",
       " 'machineType': 'https://www.googleapis.com/compute/v1/projects/dauntless-graph-293915/zones/us-east1-b/machineTypes/n1-standard-8',\n",
       " 'status': 'RUNNING',\n",
       " 'zone': 'https://www.googleapis.com/compute/v1/projects/dauntless-graph-293915/zones/us-east1-b',\n",
       " 'canIpForward': False,\n",
       " 'networkInterfaces': [{'network': 'https://www.googleapis.com/compute/v1/projects/dauntless-graph-293915/global/networks/default',\n",
       "   'subnetwork': 'https://www.googleapis.com/compute/v1/projects/dauntless-graph-293915/regions/us-east1/subnetworks/default',\n",
       "   'networkIP': '10.142.0.21',\n",
       "   'name': 'nic0',\n",
       "   'accessConfigs': [{'type': 'ONE_TO_ONE_NAT',\n",
       "     'name': 'External NAT',\n",
       "     'natIP': '35.229.127.251',\n",
       "     'networkTier': 'PREMIUM',\n",
       "     'kind': 'compute#accessConfig'}],\n",
       "   'fingerprint': 'd1SA6byJKS8=',\n",
       "   'kind': 'compute#networkInterface'}],\n",
       " 'disks': [{'type': 'PERSISTENT',\n",
       "   'mode': 'READ_WRITE',\n",
       "   'source': 'https://www.googleapis.com/compute/v1/projects/dauntless-graph-293915/zones/us-east1-b/disks/gpu-isness-server-sc-p100-2',\n",
       "   'deviceName': 'nvidia-ngc-image-vm-tmpl-boot-disk',\n",
       "   'index': 0,\n",
       "   'boot': True,\n",
       "   'autoDelete': True,\n",
       "   'licenses': ['https://www.googleapis.com/compute/v1/projects/ubuntu-os-cloud/global/licenses/ubuntu-1804-lts',\n",
       "    'https://www.googleapis.com/compute/v1/projects/nvidia-ngc-public/global/licenses/nvidia-ngc-image'],\n",
       "   'interface': 'SCSI',\n",
       "   'guestOsFeatures': [{'type': 'SEV_CAPABLE'},\n",
       "    {'type': 'UEFI_COMPATIBLE'},\n",
       "    {'type': 'VIRTIO_SCSI_MULTIQUEUE'}],\n",
       "   'diskSizeGb': '32',\n",
       "   'kind': 'compute#attachedDisk'}],\n",
       " 'metadata': {'fingerprint': '0bIc_zvLHBk=',\n",
       "  'items': [{'key': 'status-config-url',\n",
       "    'value': 'https://runtimeconfig.googleapis.com/v1beta1/projects/dauntless-graph-293915/configs/nvidia-ngc-image-1-config'},\n",
       "   {'key': 'status-variable-path', 'value': 'status'},\n",
       "   {'key': 'status-uptime-deadline', 'value': '300'},\n",
       "   {'key': 'google-monitoring-enable', 'value': '0'},\n",
       "   {'key': 'google-logging-enable', 'value': '0'},\n",
       "   {'key': 'startup-script',\n",
       "    'value': '#!/bin/bash\\n\\nset -e\\n\\nDEFAULT_UPTIME_DEADLINE=\"300\"  # 5 minutes\\n\\nmetadata_value() {\\n  curl --retry 5 -sfH \"Metadata-Flavor: Google\" \\\\\\n       \"http://metadata/computeMetadata/v1/$1\"\\n}\\n\\naccess_token() {\\n  metadata_value \"instance/service-accounts/default/token\" \\\\\\n  | python3 -c \"import sys, json; print(json.load(sys.stdin)[\\'access_token\\'])\"\\n}\\n\\nuptime_seconds() {\\n  seconds=\"$(cat /proc/uptime | cut -d\\' \\' -f1)\"\\n  echo ${seconds%%.*}  # delete floating point.\\n}\\n\\nconfig_url() { metadata_value \"instance/attributes/status-config-url\"; }\\ninstance_id() { metadata_value \"instance/id\"; }\\nvariable_path() { metadata_value \"instance/attributes/status-variable-path\"; }\\nproject_name() { metadata_value \"project/project-id\"; }\\nuptime_deadline() {\\n  metadata_value \"instance/attributes/status-uptime-deadline\" \\\\\\n      || echo $DEFAULT_UPTIME_DEADLINE\\n}\\n\\nconfig_name() {\\n  python3 - $(config_url) <<EOF\\nimport sys\\nfrom urllib.parse import urlparse\\nparsed = urlparse(sys.argv[1])\\nprint(\\'/\\'.join(parsed.path.rstrip(\\'/\\').split(\\'/\\')[-4:]))\\nEOF\\n}\\n\\nvariable_body() {\\n  encoded_value=$(echo \"$2\" | base64)\\n  printf \\'{\"name\":\"%s\", \"value\":\"%s\"}\\\\n\\' \"$1\" \"$encoded_value\"\\n}\\n\\npost_result() {\\n  var_subpath=$1\\n  var_value=$2\\n  var_path=\"$(config_name)/variables/$var_subpath/$(instance_id)\"\\n\\n  curl --retry 5 -sH \"Authorization: Bearer $(access_token)\" \\\\\\n      -H \"Content-Type: application/json\" \\\\\\n      -X POST -d \"$(variable_body \"$var_path\" \"$var_value\")\" \\\\\\n      \"$(config_url)/variables\"\\n}\\n\\npost_success() {\\n  post_result \"$(variable_path)/success\" \"${1:-Success}\"\\n}\\n\\npost_failure() {\\n  post_result \"$(variable_path)/failure\" \"${1:-Failure}\"\\n}\\n\\n# The contents of initScript are contained within this function.\\ncustom_init() (\\n  return 0\\n)\\n\\n# The contents of checkScript are contained within this function.\\ncheck_success() (\\n  return 0\\n)\\n\\ncheck_success_with_retries() {\\n  deadline=\"$(uptime_deadline)\"\\n  while [ \"$(uptime_seconds)\" -lt \"$deadline\" ]; do\\n    message=$(check_success)\\n    case $? in\\n    0)\\n      # Success.\\n      return 0\\n      ;;\\n    1)\\n      # Not ready; continue loop\\n      ;;\\n    *)\\n      # Failure; abort.\\n      echo $message\\n      return 1\\n      ;;\\n    esac\\n\\n    sleep 5\\n  done\\n\\n  # The check was not successful within the required deadline.\\n  echo \"status check timeout\"\\n  return 1\\n}\\n\\ndo_init() {\\n  # Run the init script first. If no init script was specified, this\\n  # is a no-op.\\n  echo \"software-status: initializing...\"\\n\\n  set +e\\n  message=\"$(custom_init)\"\\n  result=$?\\n  set -e\\n\\n  if [ $result -ne 0 ]; then\\n    echo \"software-status: init failure\"\\n    post_failure \"$message\"\\n    return 1\\n  fi\\n}\\n\\ndo_check() {\\n  # Poll for success.\\n  echo \"software-status: waiting for software to become ready...\"\\n  set +e\\n  message=\"$(check_success_with_retries)\"\\n  result=$?\\n  set -e\\n\\n  if [ $result -eq 0 ]; then\\n    echo \"software-status: success\"\\n    post_success\\n  else\\n    echo \"software-status: failed with message: $message\"\\n    post_failure \"$message\"\\n  fi\\n}\\n\\n# Run the initialization script synchronously.\\ndo_init || exit $?\\n\\n# The actual software initialization might come after google\\'s init.d\\n# script that executes our startup script. Thus, launch this script\\n# into the background so that it does not block init and eventually\\n# timeout while waiting for software to start.\\ndo_check & disown'}],\n",
       "  'kind': 'compute#metadata'},\n",
       " 'serviceAccounts': [{'email': '669110238078-compute@developer.gserviceaccount.com',\n",
       "   'scopes': ['https://www.googleapis.com/auth/devstorage.read_only',\n",
       "    'https://www.googleapis.com/auth/logging.write',\n",
       "    'https://www.googleapis.com/auth/monitoring.write',\n",
       "    'https://www.googleapis.com/auth/pubsub',\n",
       "    'https://www.googleapis.com/auth/service.management.readonly',\n",
       "    'https://www.googleapis.com/auth/servicecontrol',\n",
       "    'https://www.googleapis.com/auth/trace.append']}],\n",
       " 'selfLink': 'https://www.googleapis.com/compute/v1/projects/dauntless-graph-293915/zones/us-east1-b/instances/gpu-isness-server-sc-p100-2',\n",
       " 'scheduling': {'onHostMaintenance': 'TERMINATE',\n",
       "  'automaticRestart': True,\n",
       "  'preemptible': False},\n",
       " 'cpuPlatform': 'Intel Haswell',\n",
       " 'labels': {'goog-dm': 'nvidia-ngc-image-1'},\n",
       " 'labelFingerprint': '_tDkf3fYFqg=',\n",
       " 'guestAccelerators': [{'acceleratorType': 'https://www.googleapis.com/compute/v1/projects/dauntless-graph-293915/zones/us-east1-b/acceleratorTypes/nvidia-tesla-p100',\n",
       "   'acceleratorCount': 1}],\n",
       " 'startRestricted': False,\n",
       " 'deletionProtection': False,\n",
       " 'reservationAffinity': {'consumeReservationType': 'ANY_RESERVATION'},\n",
       " 'displayDevice': {'enableDisplay': False},\n",
       " 'shieldedInstanceConfig': {'enableSecureBoot': False,\n",
       "  'enableVtpm': True,\n",
       "  'enableIntegrityMonitoring': True},\n",
       " 'shieldedInstanceIntegrityPolicy': {'updateAutoLearnPolicy': True},\n",
       " 'confidentialInstanceConfig': {'enableConfidentialCompute': False},\n",
       " 'fingerprint': '89IwQwjIJpo=',\n",
       " 'lastStartTimestamp': '2020-11-09T13:31:22.323-08:00',\n",
       " 'lastStopTimestamp': '2020-11-08T20:46:17.871-08:00',\n",
       " 'kind': 'compute#instance'}"
      ]
     },
     "metadata": {},
     "execution_count": 15
    }
   ],
   "source": [
    "response"
   ]
  },
  {
   "cell_type": "code",
   "execution_count": 19,
   "metadata": {},
   "outputs": [],
   "source": [
    "ip = response['networkInterfaces'][0]['accessConfigs'][0]['natIP']\n",
    "response['instanceIp'] = ip\n",
    "response['narupaStatus'] = gcp.get_narupa_status(ip)"
   ]
  },
  {
   "cell_type": "code",
   "execution_count": 20,
   "metadata": {},
   "outputs": [
    {
     "output_type": "execute_result",
     "data": {
      "text/plain": [
       "False"
      ]
     },
     "metadata": {},
     "execution_count": 20
    }
   ],
   "source": [
    "response['narupaStatus']"
   ]
  },
  {
   "cell_type": "code",
   "execution_count": 21,
   "metadata": {},
   "outputs": [
    {
     "output_type": "execute_result",
     "data": {
      "text/plain": [
       "'35.229.127.251'"
      ]
     },
     "metadata": {},
     "execution_count": 21
    }
   ],
   "source": [
    "response['instanceIp']"
   ]
  },
  {
   "cell_type": "code",
   "execution_count": 53,
   "metadata": {},
   "outputs": [],
   "source": [
    "def create_instance(region, duration, simulation=None, topology=None, trajectory=None):\n",
    "    zone = gcp.get_zone_for_region(region)\n",
    "\n",
    "    machine_type = 'n1-standard-1'\n",
    "    gpu_type = 'nvidia-tesla-p100'\n",
    "    disk_size_gb = '32'\n",
    "\n",
    "    name = 'anuma-isness-{}'.format(utils.generate_short_id())\n",
    "    metadata = [\n",
    "        { 'key': 'google-logging-enabled', 'value': 'true' },\n",
    "        { 'key': 'duration', 'value': duration},\n",
    "        { 'key': 'startup-script', 'value': '#!/bin/bash\\n'}\n",
    "    ]\n",
    "\n",
    "    config = {\n",
    "        'name': name,\n",
    "        'zone': 'projects/{}/zones/{}'.format(PROJECT, zone),\n",
    "        'machineType': 'projects/{}/zones/{}/machineTypes/{}'.format(PROJECT, zone, machine_type),\n",
    "        'displayDevice': {\n",
    "            'enableDisplay': False\n",
    "        },\n",
    "        'metadata': {\n",
    "            'items': metadata\n",
    "        },\n",
    "        'tags': {\n",
    "            'items': [ 'narupa-simulation' ]\n",
    "        },\n",
    "        'guestAccelerators': [\n",
    "            {\n",
    "            'acceleratorCount': 1,\n",
    "            'acceleratorType': 'projects/{}/zones/{}/acceleratorTypes/{}'.format(PROJECT, zone, gpu_type)\n",
    "            }\n",
    "        ],\n",
    "        #'sourceMachineImage': 'projects/dauntless-graph-293915/global/machineImages/nvidia-gpu-sc-2',\n",
    "        'disks': [\n",
    "            {\n",
    "            'type': 'PERSISTENT',\n",
    "            'boot': True,\n",
    "            'mode': 'READ_WRITE',\n",
    "            'autoDelete': True,\n",
    "            'deviceName': name,\n",
    "            'initializeParams': {\n",
    "                'sourceImage': 'projects/nvidia-ngc-public/global/images/nvidia-gpu-cloud-image-20200629',\n",
    "                'diskType': 'projects/{}/zones/{}/diskTypes/pd-standard'.format(PROJECT, zone),\n",
    "                'diskSizeGb': disk_size_gb\n",
    "            },\n",
    "            'diskEncryptionKey': {}\n",
    "            }\n",
    "        ],\n",
    "        'canIpForward': False,\n",
    "        'networkInterfaces': [\n",
    "            {\n",
    "            'subnetwork': 'projects/{}/regions/{}/subnetworks/default'.format(PROJECT, region),\n",
    "            'accessConfigs': [\n",
    "                {\n",
    "                'name': 'External NAT',\n",
    "                'type': 'ONE_TO_ONE_NAT',\n",
    "                'networkTier': 'PREMIUM'\n",
    "                }\n",
    "            ]\n",
    "            }\n",
    "        ],\n",
    "        'serviceAccounts': [\n",
    "            {\n",
    "            'email': '669110238078-compute@developer.gserviceaccount.com',\n",
    "            'scopes': [\n",
    "                'https://www.googleapis.com/auth/cloud-platform',\n",
    "                'https://www.googleapis.com/auth/devstorage.read_only',\n",
    "                'https://www.googleapis.com/auth/logging.write',\n",
    "                'https://www.googleapis.com/auth/monitoring.write',\n",
    "                'https://www.googleapis.com/auth/servicecontrol',\n",
    "                'https://www.googleapis.com/auth/service.management.readonly',\n",
    "                'https://www.googleapis.com/auth/trace.append'\n",
    "            ]\n",
    "            }\n",
    "        ],\n",
    "        'scheduling': {\n",
    "            'preemptible': False,\n",
    "            'onHostMaintenance': 'TERMINATE',\n",
    "            'automaticRestart': False\n",
    "        },\n",
    "        'deletionProtection': False,\n",
    "        'shieldedInstanceConfig': {\n",
    "            'enableSecureBoot': False,\n",
    "            'enableVtpm': True,\n",
    "            'enableIntegrityMonitoring': True\n",
    "        }\n",
    "    }\n",
    "\n",
    "    response = gcp.get_compute_client().instances().insert(project=PROJECT, zone=zone, body=config).execute()\n",
    "    response['instanceName'] = name\n",
    "    return response\n"
   ]
  },
  {
   "cell_type": "code",
   "execution_count": 24,
   "metadata": {},
   "outputs": [],
   "source": [
    "#dauntless-graph-293915/zones/us-east1-b/instances/"
   ]
  },
  {
   "cell_type": "code",
   "execution_count": 25,
   "metadata": {},
   "outputs": [],
   "source": [
    "duration = 30"
   ]
  },
  {
   "cell_type": "code",
   "execution_count": 54,
   "metadata": {},
   "outputs": [
    {
     "output_type": "error",
     "ename": "HttpError",
     "evalue": "<HttpError 400 when requesting https://compute.googleapis.com/compute/v1/projects/dauntless-graph-293915/zones/us-east1-b/instances?alt=json returned \"Invalid value for field 'resource.disks': ''. No disks are specified.\">",
     "traceback": [
      "\u001b[0;31m---------------------------------------------------------------------------\u001b[0m",
      "\u001b[0;31mHttpError\u001b[0m                                 Traceback (most recent call last)",
      "\u001b[0;32m<ipython-input-54-1d275654938b>\u001b[0m in \u001b[0;36m<module>\u001b[0;34m\u001b[0m\n\u001b[0;32m----> 1\u001b[0;31m \u001b[0mcreate_instance\u001b[0m\u001b[0;34m(\u001b[0m\u001b[0mregion\u001b[0m\u001b[0;34m,\u001b[0m \u001b[0mduration\u001b[0m\u001b[0;34m,\u001b[0m \u001b[0msimulation\u001b[0m\u001b[0;34m=\u001b[0m\u001b[0;32mNone\u001b[0m\u001b[0;34m,\u001b[0m \u001b[0mtopology\u001b[0m\u001b[0;34m=\u001b[0m\u001b[0;32mNone\u001b[0m\u001b[0;34m,\u001b[0m \u001b[0mtrajectory\u001b[0m\u001b[0;34m=\u001b[0m\u001b[0;32mNone\u001b[0m\u001b[0;34m)\u001b[0m\u001b[0;34m\u001b[0m\u001b[0;34m\u001b[0m\u001b[0m\n\u001b[0m",
      "\u001b[0;32m<ipython-input-53-8b0364b71595>\u001b[0m in \u001b[0;36mcreate_instance\u001b[0;34m(region, duration, simulation, topology, trajectory)\u001b[0m\n\u001b[1;32m     74\u001b[0m     }\n\u001b[1;32m     75\u001b[0m \u001b[0;34m\u001b[0m\u001b[0m\n\u001b[0;32m---> 76\u001b[0;31m     \u001b[0mresponse\u001b[0m \u001b[0;34m=\u001b[0m \u001b[0mgcp\u001b[0m\u001b[0;34m.\u001b[0m\u001b[0mget_compute_client\u001b[0m\u001b[0;34m(\u001b[0m\u001b[0;34m)\u001b[0m\u001b[0;34m.\u001b[0m\u001b[0minstances\u001b[0m\u001b[0;34m(\u001b[0m\u001b[0;34m)\u001b[0m\u001b[0;34m.\u001b[0m\u001b[0minsert\u001b[0m\u001b[0;34m(\u001b[0m\u001b[0mproject\u001b[0m\u001b[0;34m=\u001b[0m\u001b[0mPROJECT\u001b[0m\u001b[0;34m,\u001b[0m \u001b[0mzone\u001b[0m\u001b[0;34m=\u001b[0m\u001b[0mzone\u001b[0m\u001b[0;34m,\u001b[0m \u001b[0mbody\u001b[0m\u001b[0;34m=\u001b[0m\u001b[0mconfig\u001b[0m\u001b[0;34m)\u001b[0m\u001b[0;34m.\u001b[0m\u001b[0mexecute\u001b[0m\u001b[0;34m(\u001b[0m\u001b[0;34m)\u001b[0m\u001b[0;34m\u001b[0m\u001b[0;34m\u001b[0m\u001b[0m\n\u001b[0m\u001b[1;32m     77\u001b[0m     \u001b[0mresponse\u001b[0m\u001b[0;34m[\u001b[0m\u001b[0;34m'instanceName'\u001b[0m\u001b[0;34m]\u001b[0m \u001b[0;34m=\u001b[0m \u001b[0mname\u001b[0m\u001b[0;34m\u001b[0m\u001b[0;34m\u001b[0m\u001b[0m\n\u001b[1;32m     78\u001b[0m     \u001b[0;32mreturn\u001b[0m \u001b[0mresponse\u001b[0m\u001b[0;34m\u001b[0m\u001b[0;34m\u001b[0m\u001b[0m\n",
      "\u001b[0;32m/opt/anaconda3/envs/gcp/lib/python3.9/site-packages/googleapiclient/_helpers.py\u001b[0m in \u001b[0;36mpositional_wrapper\u001b[0;34m(*args, **kwargs)\u001b[0m\n\u001b[1;32m    132\u001b[0m                 \u001b[0;32melif\u001b[0m \u001b[0mpositional_parameters_enforcement\u001b[0m \u001b[0;34m==\u001b[0m \u001b[0mPOSITIONAL_WARNING\u001b[0m\u001b[0;34m:\u001b[0m\u001b[0;34m\u001b[0m\u001b[0;34m\u001b[0m\u001b[0m\n\u001b[1;32m    133\u001b[0m                     \u001b[0mlogger\u001b[0m\u001b[0;34m.\u001b[0m\u001b[0mwarning\u001b[0m\u001b[0;34m(\u001b[0m\u001b[0mmessage\u001b[0m\u001b[0;34m)\u001b[0m\u001b[0;34m\u001b[0m\u001b[0;34m\u001b[0m\u001b[0m\n\u001b[0;32m--> 134\u001b[0;31m             \u001b[0;32mreturn\u001b[0m \u001b[0mwrapped\u001b[0m\u001b[0;34m(\u001b[0m\u001b[0;34m*\u001b[0m\u001b[0margs\u001b[0m\u001b[0;34m,\u001b[0m \u001b[0;34m**\u001b[0m\u001b[0mkwargs\u001b[0m\u001b[0;34m)\u001b[0m\u001b[0;34m\u001b[0m\u001b[0;34m\u001b[0m\u001b[0m\n\u001b[0m\u001b[1;32m    135\u001b[0m \u001b[0;34m\u001b[0m\u001b[0m\n\u001b[1;32m    136\u001b[0m         \u001b[0;32mreturn\u001b[0m \u001b[0mpositional_wrapper\u001b[0m\u001b[0;34m\u001b[0m\u001b[0;34m\u001b[0m\u001b[0m\n",
      "\u001b[0;32m/opt/anaconda3/envs/gcp/lib/python3.9/site-packages/googleapiclient/http.py\u001b[0m in \u001b[0;36mexecute\u001b[0;34m(self, http, num_retries)\u001b[0m\n\u001b[1;32m    913\u001b[0m             \u001b[0mcallback\u001b[0m\u001b[0;34m(\u001b[0m\u001b[0mresp\u001b[0m\u001b[0;34m)\u001b[0m\u001b[0;34m\u001b[0m\u001b[0;34m\u001b[0m\u001b[0m\n\u001b[1;32m    914\u001b[0m         \u001b[0;32mif\u001b[0m \u001b[0mresp\u001b[0m\u001b[0;34m.\u001b[0m\u001b[0mstatus\u001b[0m \u001b[0;34m>=\u001b[0m \u001b[0;36m300\u001b[0m\u001b[0;34m:\u001b[0m\u001b[0;34m\u001b[0m\u001b[0;34m\u001b[0m\u001b[0m\n\u001b[0;32m--> 915\u001b[0;31m             \u001b[0;32mraise\u001b[0m \u001b[0mHttpError\u001b[0m\u001b[0;34m(\u001b[0m\u001b[0mresp\u001b[0m\u001b[0;34m,\u001b[0m \u001b[0mcontent\u001b[0m\u001b[0;34m,\u001b[0m \u001b[0muri\u001b[0m\u001b[0;34m=\u001b[0m\u001b[0mself\u001b[0m\u001b[0;34m.\u001b[0m\u001b[0muri\u001b[0m\u001b[0;34m)\u001b[0m\u001b[0;34m\u001b[0m\u001b[0;34m\u001b[0m\u001b[0m\n\u001b[0m\u001b[1;32m    916\u001b[0m         \u001b[0;32mreturn\u001b[0m \u001b[0mself\u001b[0m\u001b[0;34m.\u001b[0m\u001b[0mpostproc\u001b[0m\u001b[0;34m(\u001b[0m\u001b[0mresp\u001b[0m\u001b[0;34m,\u001b[0m \u001b[0mcontent\u001b[0m\u001b[0;34m)\u001b[0m\u001b[0;34m\u001b[0m\u001b[0;34m\u001b[0m\u001b[0m\n\u001b[1;32m    917\u001b[0m \u001b[0;34m\u001b[0m\u001b[0m\n",
      "\u001b[0;31mHttpError\u001b[0m: <HttpError 400 when requesting https://compute.googleapis.com/compute/v1/projects/dauntless-graph-293915/zones/us-east1-b/instances?alt=json returned \"Invalid value for field 'resource.disks': ''. No disks are specified.\">"
     ]
    }
   ],
   "source": [
    "create_instance(region, duration, simulation=None, topology=None, trajectory=None)"
   ]
  },
  {
   "cell_type": "code",
   "execution_count": 35,
   "metadata": {},
   "outputs": [],
   "source": [
    " #669110238078-compute@developer.gserviceaccount.com"
   ]
  },
  {
   "cell_type": "code",
   "execution_count": 36,
   "metadata": {},
   "outputs": [],
   "source": [
    "response = gcp.get_compute_client().instances().get(project=PROJECT, zone=zone, instance=name).execute()"
   ]
  },
  {
   "cell_type": "code",
   "execution_count": 37,
   "metadata": {},
   "outputs": [
    {
     "output_type": "execute_result",
     "data": {
      "text/plain": [
       "{'id': '325030160619962431',\n",
       " 'creationTimestamp': '2020-11-07T16:41:52.425-08:00',\n",
       " 'name': 'gpu-isness-server-sc-p100-2',\n",
       " 'description': '',\n",
       " 'tags': {'items': ['http-server', 'https-server'],\n",
       "  'fingerprint': '6smc4R4d39I='},\n",
       " 'machineType': 'https://www.googleapis.com/compute/v1/projects/dauntless-graph-293915/zones/us-east1-b/machineTypes/n1-standard-8',\n",
       " 'status': 'RUNNING',\n",
       " 'zone': 'https://www.googleapis.com/compute/v1/projects/dauntless-graph-293915/zones/us-east1-b',\n",
       " 'canIpForward': False,\n",
       " 'networkInterfaces': [{'network': 'https://www.googleapis.com/compute/v1/projects/dauntless-graph-293915/global/networks/default',\n",
       "   'subnetwork': 'https://www.googleapis.com/compute/v1/projects/dauntless-graph-293915/regions/us-east1/subnetworks/default',\n",
       "   'networkIP': '10.142.0.21',\n",
       "   'name': 'nic0',\n",
       "   'accessConfigs': [{'type': 'ONE_TO_ONE_NAT',\n",
       "     'name': 'External NAT',\n",
       "     'natIP': '35.229.127.251',\n",
       "     'networkTier': 'PREMIUM',\n",
       "     'kind': 'compute#accessConfig'}],\n",
       "   'fingerprint': 'd1SA6byJKS8=',\n",
       "   'kind': 'compute#networkInterface'}],\n",
       " 'disks': [{'type': 'PERSISTENT',\n",
       "   'mode': 'READ_WRITE',\n",
       "   'source': 'https://www.googleapis.com/compute/v1/projects/dauntless-graph-293915/zones/us-east1-b/disks/gpu-isness-server-sc-p100-2',\n",
       "   'deviceName': 'nvidia-ngc-image-vm-tmpl-boot-disk',\n",
       "   'index': 0,\n",
       "   'boot': True,\n",
       "   'autoDelete': True,\n",
       "   'licenses': ['https://www.googleapis.com/compute/v1/projects/ubuntu-os-cloud/global/licenses/ubuntu-1804-lts',\n",
       "    'https://www.googleapis.com/compute/v1/projects/nvidia-ngc-public/global/licenses/nvidia-ngc-image'],\n",
       "   'interface': 'SCSI',\n",
       "   'guestOsFeatures': [{'type': 'SEV_CAPABLE'},\n",
       "    {'type': 'UEFI_COMPATIBLE'},\n",
       "    {'type': 'VIRTIO_SCSI_MULTIQUEUE'}],\n",
       "   'diskSizeGb': '32',\n",
       "   'kind': 'compute#attachedDisk'}],\n",
       " 'metadata': {'fingerprint': '0bIc_zvLHBk=',\n",
       "  'items': [{'key': 'status-config-url',\n",
       "    'value': 'https://runtimeconfig.googleapis.com/v1beta1/projects/dauntless-graph-293915/configs/nvidia-ngc-image-1-config'},\n",
       "   {'key': 'status-variable-path', 'value': 'status'},\n",
       "   {'key': 'status-uptime-deadline', 'value': '300'},\n",
       "   {'key': 'google-monitoring-enable', 'value': '0'},\n",
       "   {'key': 'google-logging-enable', 'value': '0'},\n",
       "   {'key': 'startup-script',\n",
       "    'value': '#!/bin/bash\\n\\nset -e\\n\\nDEFAULT_UPTIME_DEADLINE=\"300\"  # 5 minutes\\n\\nmetadata_value() {\\n  curl --retry 5 -sfH \"Metadata-Flavor: Google\" \\\\\\n       \"http://metadata/computeMetadata/v1/$1\"\\n}\\n\\naccess_token() {\\n  metadata_value \"instance/service-accounts/default/token\" \\\\\\n  | python3 -c \"import sys, json; print(json.load(sys.stdin)[\\'access_token\\'])\"\\n}\\n\\nuptime_seconds() {\\n  seconds=\"$(cat /proc/uptime | cut -d\\' \\' -f1)\"\\n  echo ${seconds%%.*}  # delete floating point.\\n}\\n\\nconfig_url() { metadata_value \"instance/attributes/status-config-url\"; }\\ninstance_id() { metadata_value \"instance/id\"; }\\nvariable_path() { metadata_value \"instance/attributes/status-variable-path\"; }\\nproject_name() { metadata_value \"project/project-id\"; }\\nuptime_deadline() {\\n  metadata_value \"instance/attributes/status-uptime-deadline\" \\\\\\n      || echo $DEFAULT_UPTIME_DEADLINE\\n}\\n\\nconfig_name() {\\n  python3 - $(config_url) <<EOF\\nimport sys\\nfrom urllib.parse import urlparse\\nparsed = urlparse(sys.argv[1])\\nprint(\\'/\\'.join(parsed.path.rstrip(\\'/\\').split(\\'/\\')[-4:]))\\nEOF\\n}\\n\\nvariable_body() {\\n  encoded_value=$(echo \"$2\" | base64)\\n  printf \\'{\"name\":\"%s\", \"value\":\"%s\"}\\\\n\\' \"$1\" \"$encoded_value\"\\n}\\n\\npost_result() {\\n  var_subpath=$1\\n  var_value=$2\\n  var_path=\"$(config_name)/variables/$var_subpath/$(instance_id)\"\\n\\n  curl --retry 5 -sH \"Authorization: Bearer $(access_token)\" \\\\\\n      -H \"Content-Type: application/json\" \\\\\\n      -X POST -d \"$(variable_body \"$var_path\" \"$var_value\")\" \\\\\\n      \"$(config_url)/variables\"\\n}\\n\\npost_success() {\\n  post_result \"$(variable_path)/success\" \"${1:-Success}\"\\n}\\n\\npost_failure() {\\n  post_result \"$(variable_path)/failure\" \"${1:-Failure}\"\\n}\\n\\n# The contents of initScript are contained within this function.\\ncustom_init() (\\n  return 0\\n)\\n\\n# The contents of checkScript are contained within this function.\\ncheck_success() (\\n  return 0\\n)\\n\\ncheck_success_with_retries() {\\n  deadline=\"$(uptime_deadline)\"\\n  while [ \"$(uptime_seconds)\" -lt \"$deadline\" ]; do\\n    message=$(check_success)\\n    case $? in\\n    0)\\n      # Success.\\n      return 0\\n      ;;\\n    1)\\n      # Not ready; continue loop\\n      ;;\\n    *)\\n      # Failure; abort.\\n      echo $message\\n      return 1\\n      ;;\\n    esac\\n\\n    sleep 5\\n  done\\n\\n  # The check was not successful within the required deadline.\\n  echo \"status check timeout\"\\n  return 1\\n}\\n\\ndo_init() {\\n  # Run the init script first. If no init script was specified, this\\n  # is a no-op.\\n  echo \"software-status: initializing...\"\\n\\n  set +e\\n  message=\"$(custom_init)\"\\n  result=$?\\n  set -e\\n\\n  if [ $result -ne 0 ]; then\\n    echo \"software-status: init failure\"\\n    post_failure \"$message\"\\n    return 1\\n  fi\\n}\\n\\ndo_check() {\\n  # Poll for success.\\n  echo \"software-status: waiting for software to become ready...\"\\n  set +e\\n  message=\"$(check_success_with_retries)\"\\n  result=$?\\n  set -e\\n\\n  if [ $result -eq 0 ]; then\\n    echo \"software-status: success\"\\n    post_success\\n  else\\n    echo \"software-status: failed with message: $message\"\\n    post_failure \"$message\"\\n  fi\\n}\\n\\n# Run the initialization script synchronously.\\ndo_init || exit $?\\n\\n# The actual software initialization might come after google\\'s init.d\\n# script that executes our startup script. Thus, launch this script\\n# into the background so that it does not block init and eventually\\n# timeout while waiting for software to start.\\ndo_check & disown'}],\n",
       "  'kind': 'compute#metadata'},\n",
       " 'serviceAccounts': [{'email': '669110238078-compute@developer.gserviceaccount.com',\n",
       "   'scopes': ['https://www.googleapis.com/auth/devstorage.read_only',\n",
       "    'https://www.googleapis.com/auth/logging.write',\n",
       "    'https://www.googleapis.com/auth/monitoring.write',\n",
       "    'https://www.googleapis.com/auth/pubsub',\n",
       "    'https://www.googleapis.com/auth/service.management.readonly',\n",
       "    'https://www.googleapis.com/auth/servicecontrol',\n",
       "    'https://www.googleapis.com/auth/trace.append']}],\n",
       " 'selfLink': 'https://www.googleapis.com/compute/v1/projects/dauntless-graph-293915/zones/us-east1-b/instances/gpu-isness-server-sc-p100-2',\n",
       " 'scheduling': {'onHostMaintenance': 'TERMINATE',\n",
       "  'automaticRestart': True,\n",
       "  'preemptible': False},\n",
       " 'cpuPlatform': 'Intel Haswell',\n",
       " 'labels': {'goog-dm': 'nvidia-ngc-image-1'},\n",
       " 'labelFingerprint': '_tDkf3fYFqg=',\n",
       " 'guestAccelerators': [{'acceleratorType': 'https://www.googleapis.com/compute/v1/projects/dauntless-graph-293915/zones/us-east1-b/acceleratorTypes/nvidia-tesla-p100',\n",
       "   'acceleratorCount': 1}],\n",
       " 'startRestricted': False,\n",
       " 'deletionProtection': False,\n",
       " 'reservationAffinity': {'consumeReservationType': 'ANY_RESERVATION'},\n",
       " 'displayDevice': {'enableDisplay': False},\n",
       " 'shieldedInstanceConfig': {'enableSecureBoot': False,\n",
       "  'enableVtpm': True,\n",
       "  'enableIntegrityMonitoring': True},\n",
       " 'shieldedInstanceIntegrityPolicy': {'updateAutoLearnPolicy': True},\n",
       " 'confidentialInstanceConfig': {'enableConfidentialCompute': False},\n",
       " 'fingerprint': '89IwQwjIJpo=',\n",
       " 'lastStartTimestamp': '2020-11-09T13:31:22.323-08:00',\n",
       " 'lastStopTimestamp': '2020-11-08T20:46:17.871-08:00',\n",
       " 'kind': 'compute#instance'}"
      ]
     },
     "metadata": {},
     "execution_count": 37
    }
   ],
   "source": [
    "response "
   ]
  },
  {
   "cell_type": "code",
   "execution_count": 38,
   "metadata": {},
   "outputs": [
    {
     "output_type": "execute_result",
     "data": {
      "text/plain": [
       "'gpu-isness-server-sc-p100-2'"
      ]
     },
     "metadata": {},
     "execution_count": 38
    }
   ],
   "source": [
    "name"
   ]
  },
  {
   "cell_type": "code",
   "execution_count": 45,
   "metadata": {},
   "outputs": [],
   "source": [
    "name = \"narupa-simulation-ezqobh\"\n",
    "response = gcp.get_compute_client().instances().get(project=PROJECT, zone=zone, instance=name).execute()"
   ]
  },
  {
   "cell_type": "code",
   "execution_count": 46,
   "metadata": {},
   "outputs": [
    {
     "output_type": "execute_result",
     "data": {
      "text/plain": [
       "{'id': '5526523580877542968',\n",
       " 'creationTimestamp': '2020-11-10T15:57:11.680-08:00',\n",
       " 'name': 'narupa-simulation-ezqobh',\n",
       " 'tags': {'items': ['narupa-simulation'], 'fingerprint': 'XixrPlRL6Kk='},\n",
       " 'machineType': 'https://www.googleapis.com/compute/v1/projects/dauntless-graph-293915/zones/us-east1-b/machineTypes/n1-standard-1',\n",
       " 'status': 'RUNNING',\n",
       " 'zone': 'https://www.googleapis.com/compute/v1/projects/dauntless-graph-293915/zones/us-east1-b',\n",
       " 'canIpForward': False,\n",
       " 'networkInterfaces': [{'network': 'https://www.googleapis.com/compute/v1/projects/dauntless-graph-293915/global/networks/default',\n",
       "   'subnetwork': 'https://www.googleapis.com/compute/v1/projects/dauntless-graph-293915/regions/us-east1/subnetworks/default',\n",
       "   'networkIP': '10.142.0.23',\n",
       "   'name': 'nic0',\n",
       "   'accessConfigs': [{'type': 'ONE_TO_ONE_NAT',\n",
       "     'name': 'External NAT',\n",
       "     'natIP': '104.196.55.110',\n",
       "     'networkTier': 'PREMIUM',\n",
       "     'kind': 'compute#accessConfig'}],\n",
       "   'fingerprint': 'C5o3G1iI0OE=',\n",
       "   'kind': 'compute#networkInterface'}],\n",
       " 'disks': [{'type': 'PERSISTENT',\n",
       "   'mode': 'READ_WRITE',\n",
       "   'source': 'https://www.googleapis.com/compute/v1/projects/dauntless-graph-293915/zones/us-east1-b/disks/narupa-simulation-ezqobh',\n",
       "   'deviceName': 'narupa-simulation-ezqobh',\n",
       "   'index': 0,\n",
       "   'boot': True,\n",
       "   'autoDelete': True,\n",
       "   'licenses': ['https://www.googleapis.com/compute/v1/projects/ubuntu-os-cloud/global/licenses/ubuntu-1804-lts',\n",
       "    'https://www.googleapis.com/compute/v1/projects/nvidia-ngc-public/global/licenses/nvidia-ngc-image'],\n",
       "   'interface': 'SCSI',\n",
       "   'guestOsFeatures': [{'type': 'UEFI_COMPATIBLE'},\n",
       "    {'type': 'SEV_CAPABLE'},\n",
       "    {'type': 'VIRTIO_SCSI_MULTIQUEUE'}],\n",
       "   'diskSizeGb': '50',\n",
       "   'kind': 'compute#attachedDisk'}],\n",
       " 'metadata': {'fingerprint': 'G0B7WItd67U=',\n",
       "  'items': [{'key': 'google-logging-enabled', 'value': 'true'},\n",
       "   {'key': 'duration', 'value': '30'},\n",
       "   {'key': 'startup-script', 'value': '#!/bin/bash\\n'}],\n",
       "  'kind': 'compute#metadata'},\n",
       " 'serviceAccounts': [{'email': '669110238078-compute@developer.gserviceaccount.com',\n",
       "   'scopes': ['https://www.googleapis.com/auth/cloud-platform',\n",
       "    'https://www.googleapis.com/auth/devstorage.read_only',\n",
       "    'https://www.googleapis.com/auth/logging.write',\n",
       "    'https://www.googleapis.com/auth/monitoring.write',\n",
       "    'https://www.googleapis.com/auth/servicecontrol',\n",
       "    'https://www.googleapis.com/auth/service.management.readonly',\n",
       "    'https://www.googleapis.com/auth/trace.append']}],\n",
       " 'selfLink': 'https://www.googleapis.com/compute/v1/projects/dauntless-graph-293915/zones/us-east1-b/instances/narupa-simulation-ezqobh',\n",
       " 'scheduling': {'onHostMaintenance': 'TERMINATE',\n",
       "  'automaticRestart': False,\n",
       "  'preemptible': False},\n",
       " 'cpuPlatform': 'Intel Haswell',\n",
       " 'labelFingerprint': '42WmSpB8rSM=',\n",
       " 'guestAccelerators': [{'acceleratorType': 'https://www.googleapis.com/compute/v1/projects/dauntless-graph-293915/zones/us-east1-b/acceleratorTypes/nvidia-tesla-p100',\n",
       "   'acceleratorCount': 1}],\n",
       " 'startRestricted': False,\n",
       " 'deletionProtection': False,\n",
       " 'displayDevice': {'enableDisplay': False},\n",
       " 'shieldedInstanceConfig': {'enableSecureBoot': False,\n",
       "  'enableVtpm': True,\n",
       "  'enableIntegrityMonitoring': True},\n",
       " 'shieldedInstanceIntegrityPolicy': {'updateAutoLearnPolicy': True},\n",
       " 'fingerprint': 'x8zpnByy4z4=',\n",
       " 'lastStartTimestamp': '2020-11-10T15:57:36.536-08:00',\n",
       " 'kind': 'compute#instance'}"
      ]
     },
     "metadata": {},
     "execution_count": 46
    }
   ],
   "source": [
    "response"
   ]
  },
  {
   "cell_type": "code",
   "execution_count": null,
   "metadata": {},
   "outputs": [],
   "source": [
    "his is the REST request with the parameters you have selected.\n",
    "POST https://www.googleapis.com/compute/v1/projects/dauntless-graph-293915/zones/us-east1-b/instances\n",
    "{\n",
    "  \"kind\": \"compute#instance\",\n",
    "  \"name\": \"nvidia-gpu-sc-1\",\n",
    "  \"zone\": \"projects/dauntless-graph-293915/zones/us-east1-b\",\n",
    "  \"minCpuPlatform\": \"Automatic\",\n",
    "  \"machineType\": \"projects/dauntless-graph-293915/zones/us-east1-b/machineTypes/n1-standard-8\",\n",
    "  \"displayDevice\": {\n",
    "    \"enableDisplay\": false\n",
    "  },\n",
    "  \"metadata\": {\n",
    "    \"kind\": \"compute#metadata\",\n",
    "    \"items\": [\n",
    "      {\n",
    "        \"key\": \"status-config-url\",\n",
    "        \"value\": \"https://runtimeconfig.googleapis.com/v1beta1/projects/dauntless-graph-293915/configs/nvidia-ngc-image-1-config\"\n",
    "      },\n",
    "      {\n",
    "        \"key\": \"status-variable-path\",\n",
    "        \"value\": \"status\"\n",
    "      },\n",
    "      {\n",
    "        \"key\": \"status-uptime-deadline\",\n",
    "        \"value\": \"300\"\n",
    "      },\n",
    "      {\n",
    "        \"key\": \"google-monitoring-enable\",\n",
    "        \"value\": \"0\"\n",
    "      },\n",
    "      {\n",
    "        \"key\": \"google-logging-enable\",\n",
    "        \"value\": \"0\"\n",
    "      },\n",
    "      {\n",
    "        \"key\": \"startup-script\",\n",
    "        \"value\": \"#!/bin/bash\\n\\nset -e\\n\\nDEFAULT_UPTIME_DEADLINE=\\\"300\\\"  # 5 minutes\\n\\nmetadata_value() {\\n  curl --retry 5 -sfH \\\"Metadata-Flavor: Google\\\" \\\\\\n       \\\"http://metadata/computeMetadata/v1/$1\\\"\\n}\\n\\naccess_token() {\\n  metadata_value \\\"instance/service-accounts/default/token\\\" \\\\\\n  | python3 -c \\\"import sys, json; print(json.load(sys.stdin)['access_token'])\\\"\\n}\\n\\nuptime_seconds() {\\n  seconds=\\\"$(cat /proc/uptime | cut -d' ' -f1)\\\"\\n  echo ${seconds%%.*}  # delete floating point.\\n}\\n\\nconfig_url() { metadata_value \\\"instance/attributes/status-config-url\\\"; }\\ninstance_id() { metadata_value \\\"instance/id\\\"; }\\nvariable_path() { metadata_value \\\"instance/attributes/status-variable-path\\\"; }\\nproject_name() { metadata_value \\\"project/project-id\\\"; }\\nuptime_deadline() {\\n  metadata_value \\\"instance/attributes/status-uptime-deadline\\\" \\\\\\n      || echo $DEFAULT_UPTIME_DEADLINE\\n}\\n\\nconfig_name() {\\n  python3 - $(config_url) <<EOF\\nimport sys\\nfrom urllib.parse import urlparse\\nparsed = urlparse(sys.argv[1])\\nprint('/'.join(parsed.path.rstrip('/').split('/')[-4:]))\\nEOF\\n}\\n\\nvariable_body() {\\n  encoded_value=$(echo \\\"$2\\\" | base64)\\n  printf '{\\\"name\\\":\\\"%s\\\", \\\"value\\\":\\\"%s\\\"}\\\\n' \\\"$1\\\" \\\"$encoded_value\\\"\\n}\\n\\npost_result() {\\n  var_subpath=$1\\n  var_value=$2\\n  var_path=\\\"$(config_name)/variables/$var_subpath/$(instance_id)\\\"\\n\\n  curl --retry 5 -sH \\\"Authorization: Bearer $(access_token)\\\" \\\\\\n      -H \\\"Content-Type: application/json\\\" \\\\\\n      -X POST -d \\\"$(variable_body \\\"$var_path\\\" \\\"$var_value\\\")\\\" \\\\\\n      \\\"$(config_url)/variables\\\"\\n}\\n\\npost_success() {\\n  post_result \\\"$(variable_path)/success\\\" \\\"${1:-Success}\\\"\\n}\\n\\npost_failure() {\\n  post_result \\\"$(variable_path)/failure\\\" \\\"${1:-Failure}\\\"\\n}\\n\\n# The contents of initScript are contained within this function.\\ncustom_init() (\\n  return 0\\n)\\n\\n# The contents of checkScript are contained within this function.\\ncheck_success() (\\n  return 0\\n)\\n\\ncheck_success_with_retries() {\\n  deadline=\\\"$(uptime_deadline)\\\"\\n  while [ \\\"$(uptime_seconds)\\\" -lt \\\"$deadline\\\" ]; do\\n    message=$(check_success)\\n    case $? in\\n    0)\\n      # Success.\\n      return 0\\n      ;;\\n    1)\\n      # Not ready; continue loop\\n      ;;\\n    *)\\n      # Failure; abort.\\n      echo $message\\n      return 1\\n      ;;\\n    esac\\n\\n    sleep 5\\n  done\\n\\n  # The check was not successful within the required deadline.\\n  echo \\\"status check timeout\\\"\\n  return 1\\n}\\n\\ndo_init() {\\n  # Run the init script first. If no init script was specified, this\\n  # is a no-op.\\n  echo \\\"software-status: initializing...\\\"\\n\\n  set +e\\n  message=\\\"$(custom_init)\\\"\\n  result=$?\\n  set -e\\n\\n  if [ $result -ne 0 ]; then\\n    echo \\\"software-status: init failure\\\"\\n    post_failure \\\"$message\\\"\\n    return 1\\n  fi\\n}\\n\\ndo_check() {\\n  # Poll for success.\\n  echo \\\"software-status: waiting for software to become ready...\\\"\\n  set +e\\n  message=\\\"$(check_success_with_retries)\\\"\\n  result=$?\\n  set -e\\n\\n  if [ $result -eq 0 ]; then\\n    echo \\\"software-status: success\\\"\\n    post_success\\n  else\\n    echo \\\"software-status: failed with message: $message\\\"\\n    post_failure \\\"$message\\\"\\n  fi\\n}\\n\\n# Run the initialization script synchronously.\\ndo_init || exit $?\\n\\n# The actual software initialization might come after google's init.d\\n# script that executes our startup script. Thus, launch this script\\n# into the background so that it does not block init and eventually\\n# timeout while waiting for software to start.\\ndo_check & disown\"\n",
    "      }\n",
    "    ]\n",
    "  },\n",
    "  \"tags\": {\n",
    "    \"items\": [\n",
    "      \"http-server\",\n",
    "      \"https-server\"\n",
    "    ]\n",
    "  },\n",
    "  \"guestAccelerators\": [\n",
    "    {\n",
    "      \"acceleratorCount\": 1,\n",
    "      \"acceleratorType\": \"projects/dauntless-graph-293915/zones/us-east1-b/acceleratorTypes/nvidia-tesla-p100\"\n",
    "    }\n",
    "  ],\n",
    "  \"disks\": [],\n",
    "  \"canIpForward\": false,\n",
    "  \"networkInterfaces\": [\n",
    "    {\n",
    "      \"kind\": \"compute#networkInterface\",\n",
    "      \"subnetwork\": \"projects/dauntless-graph-293915/regions/us-east1/subnetworks/default\",\n",
    "      \"accessConfigs\": [\n",
    "        {\n",
    "          \"kind\": \"compute#accessConfig\",\n",
    "          \"name\": \"External NAT\",\n",
    "          \"type\": \"ONE_TO_ONE_NAT\",\n",
    "          \"networkTier\": \"PREMIUM\"\n",
    "        }\n",
    "      ],\n",
    "      \"aliasIpRanges\": []\n",
    "    }\n",
    "  ],\n",
    "  \"description\": \"\",\n",
    "  \"labels\": {\n",
    "    \"goog-dm\": \"nvidia-ngc-image-1\"\n",
    "  },\n",
    "  \"scheduling\": {\n",
    "    \"preemptible\": false,\n",
    "    \"onHostMaintenance\": \"TERMINATE\",\n",
    "    \"automaticRestart\": true,\n",
    "    \"nodeAffinities\": []\n",
    "  },\n",
    "  \"deletionProtection\": false,\n",
    "  \"reservationAffinity\": {\n",
    "    \"consumeReservationType\": \"ANY_RESERVATION\"\n",
    "  },\n",
    "  \"serviceAccounts\": [\n",
    "    {\n",
    "      \"email\": \"669110238078-compute@developer.gserviceaccount.com\",\n",
    "      \"scopes\": [\n",
    "        \"https://www.googleapis.com/auth/cloud-platform\",\n",
    "        \"https://www.googleapis.com/auth/cloud.useraccounts.readonly\",\n",
    "        \"https://www.googleapis.com/auth/cloudruntimeconfig\"\n",
    "      ]\n",
    "    }\n",
    "  ],\n",
    "  \"sourceMachineImage\": \"projects/dauntless-graph-293915/global/machineImages/nvidia-gpu-sc-2\",\n",
    "  \"shieldedInstanceConfig\": {\n",
    "    \"enableSecureBoot\": false,\n",
    "    \"enableVtpm\": true,\n",
    "    \"enableIntegrityMonitoring\": true\n",
    "  },\n",
    "  \"confidentialInstanceConfig\": {\n",
    "    \"enableConfidentialCompute\": false\n",
    "  }\n",
    "}"
   ]
  },
  {
   "cell_type": "code",
   "execution_count": 62,
   "metadata": {},
   "outputs": [
    {
     "output_type": "error",
     "ename": "SyntaxError",
     "evalue": "EOL while scanning string literal (<ipython-input-62-606b6dd31f1a>, line 1)",
     "traceback": [
      "\u001b[0;36m  File \u001b[0;32m\"<ipython-input-62-606b6dd31f1a>\"\u001b[0;36m, line \u001b[0;32m1\u001b[0m\n\u001b[0;31m    config = '{\u001b[0m\n\u001b[0m               ^\u001b[0m\n\u001b[0;31mSyntaxError\u001b[0m\u001b[0;31m:\u001b[0m EOL while scanning string literal\n"
     ]
    }
   ],
   "source": [
    "config = '{\n",
    "  \"kind\": \"compute#instance\",\n",
    "  \"name\": \"nvidia-gpu-sc-1\",\n",
    "  \"zone\": \"projects/dauntless-graph-293915/zones/us-east1-b\",\n",
    "  \"minCpuPlatform\": \"Automatic\",\n",
    "  \"machineType\": \"projects/dauntless-graph-293915/zones/us-east1-b/machineTypes/n1-standard-8\",\n",
    "  \"displayDevice\": {\n",
    "    \"enableDisplay\": false\n",
    "  },\n",
    "  \"metadata\": {\n",
    "    \"kind\": \"compute#metadata\",\n",
    "    \"items\": [\n",
    "      {\n",
    "        \"key\": \"status-config-url\",\n",
    "        \"value\": \"https://runtimeconfig.googleapis.com/v1beta1/projects/dauntless-graph-293915/configs/nvidia-ngc-image-1-config\"\n",
    "      },\n",
    "      {\n",
    "        \"key\": \"status-variable-path\",\n",
    "        \"value\": \"status\"\n",
    "      },\n",
    "      {\n",
    "        \"key\": \"status-uptime-deadline\",\n",
    "        \"value\": \"300\"\n",
    "      },\n",
    "      {\n",
    "        \"key\": \"google-monitoring-enable\",\n",
    "        \"value\": \"0\"\n",
    "      },\n",
    "      {\n",
    "        \"key\": \"google-logging-enable\",\n",
    "        \"value\": \"0\"\n",
    "      },\n",
    "      {\n",
    "        \"key\": \"startup-script\",\n",
    "        \"value\": \"#!/bin/bash\\n\\nset -e\\n\\nDEFAULT_UPTIME_DEADLINE=\\\"300\\\"  # 5 minutes\\n\\nmetadata_value() {\\n  curl --retry 5 -sfH \\\"Metadata-Flavor: Google\\\" \\\\\\n       \\\"http://metadata/computeMetadata/v1/$1\\\"\\n}\\n\\naccess_token() {\\n  metadata_value \\\"instance/service-accounts/default/token\\\" \\\\\\n  | python3 -c \\\"import sys, json; print(json.load(sys.stdin)['access_token'])\\\"\\n}\\n\\nuptime_seconds() {\\n  seconds=\\\"$(cat /proc/uptime | cut -d' ' -f1)\\\"\\n  echo ${seconds%%.*}  # delete floating point.\\n}\\n\\nconfig_url() { metadata_value \\\"instance/attributes/status-config-url\\\"; }\\ninstance_id() { metadata_value \\\"instance/id\\\"; }\\nvariable_path() { metadata_value \\\"instance/attributes/status-variable-path\\\"; }\\nproject_name() { metadata_value \\\"project/project-id\\\"; }\\nuptime_deadline() {\\n  metadata_value \\\"instance/attributes/status-uptime-deadline\\\" \\\\\\n      || echo $DEFAULT_UPTIME_DEADLINE\\n}\\n\\nconfig_name() {\\n  python3 - $(config_url) <<EOF\\nimport sys\\nfrom urllib.parse import urlparse\\nparsed = urlparse(sys.argv[1])\\nprint('/'.join(parsed.path.rstrip('/').split('/')[-4:]))\\nEOF\\n}\\n\\nvariable_body() {\\n  encoded_value=$(echo \\\"$2\\\" | base64)\\n  printf '{\\\"name\\\":\\\"%s\\\", \\\"value\\\":\\\"%s\\\"}\\\\n' \\\"$1\\\" \\\"$encoded_value\\\"\\n}\\n\\npost_result() {\\n  var_subpath=$1\\n  var_value=$2\\n  var_path=\\\"$(config_name)/variables/$var_subpath/$(instance_id)\\\"\\n\\n  curl --retry 5 -sH \\\"Authorization: Bearer $(access_token)\\\" \\\\\\n      -H \\\"Content-Type: application/json\\\" \\\\\\n      -X POST -d \\\"$(variable_body \\\"$var_path\\\" \\\"$var_value\\\")\\\" \\\\\\n      \\\"$(config_url)/variables\\\"\\n}\\n\\npost_success() {\\n  post_result \\\"$(variable_path)/success\\\" \\\"${1:-Success}\\\"\\n}\\n\\npost_failure() {\\n  post_result \\\"$(variable_path)/failure\\\" \\\"${1:-Failure}\\\"\\n}\\n\\n# The contents of initScript are contained within this function.\\ncustom_init() (\\n  return 0\\n)\\n\\n# The contents of checkScript are contained within this function.\\ncheck_success() (\\n  return 0\\n)\\n\\ncheck_success_with_retries() {\\n  deadline=\\\"$(uptime_deadline)\\\"\\n  while [ \\\"$(uptime_seconds)\\\" -lt \\\"$deadline\\\" ]; do\\n    message=$(check_success)\\n    case $? in\\n    0)\\n      # Success.\\n      return 0\\n      ;;\\n    1)\\n      # Not ready; continue loop\\n      ;;\\n    *)\\n      # Failure; abort.\\n      echo $message\\n      return 1\\n      ;;\\n    esac\\n\\n    sleep 5\\n  done\\n\\n  # The check was not successful within the required deadline.\\n  echo \\\"status check timeout\\\"\\n  return 1\\n}\\n\\ndo_init() {\\n  # Run the init script first. If no init script was specified, this\\n  # is a no-op.\\n  echo \\\"software-status: initializing...\\\"\\n\\n  set +e\\n  message=\\\"$(custom_init)\\\"\\n  result=$?\\n  set -e\\n\\n  if [ $result -ne 0 ]; then\\n    echo \\\"software-status: init failure\\\"\\n    post_failure \\\"$message\\\"\\n    return 1\\n  fi\\n}\\n\\ndo_check() {\\n  # Poll for success.\\n  echo \\\"software-status: waiting for software to become ready...\\\"\\n  set +e\\n  message=\\\"$(check_success_with_retries)\\\"\\n  result=$?\\n  set -e\\n\\n  if [ $result -eq 0 ]; then\\n    echo \\\"software-status: success\\\"\\n    post_success\\n  else\\n    echo \\\"software-status: failed with message: $message\\\"\\n    post_failure \\\"$message\\\"\\n  fi\\n}\\n\\n# Run the initialization script synchronously.\\ndo_init || exit $?\\n\\n# The actual software initialization might come after google's init.d\\n# script that executes our startup script. Thus, launch this script\\n# into the background so that it does not block init and eventually\\n# timeout while waiting for software to start.\\ndo_check & disown\"\n",
    "      }\n",
    "    ]\n",
    "  },\n",
    "  \"tags\": {\n",
    "    \"items\": [\n",
    "      \"http-server\",\n",
    "      \"https-server\"\n",
    "    ]\n",
    "  },\n",
    "  \"guestAccelerators\": [\n",
    "    {\n",
    "      \"acceleratorCount\": 1,\n",
    "      \"acceleratorType\": \"projects/dauntless-graph-293915/zones/us-east1-b/acceleratorTypes/nvidia-tesla-p100\"\n",
    "    }\n",
    "  ],\n",
    "  \"disks\": [{\"type\": \"PERSISTENT\",\n",
    "   \"mode\": \"READ_WRITE\",\n",
    "   \"source\": \"https://www.googleapis.com/compute/v1/projects/dauntless-graph-293915/zones/us-east1-b/disks/gpu-isness-server-sc-p100-2\",\n",
    "   \"deviceName\": \"nvidia-ngc-image-vm-tmpl-boot-disk\",\n",
    "   \"index\": \"0\",\n",
    "   \"boot\": \"True\",\n",
    "   \"autoDelete\": \"True\",\n",
    "   \"diskSizeGb\": \"32\",\n",
    "   \"kind\": \"compute#attachedDisk\"}],\n",
    "  \"canIpForward\": \"false\",\n",
    "  \"networkInterfaces\": [\n",
    "    {\n",
    "      \"kind\": \"compute#networkInterface\",\n",
    "      \"subnetwork\": \"projects/dauntless-graph-293915/regions/us-east1/subnetworks/default\",\n",
    "      \"accessConfigs\": [\n",
    "        {\n",
    "          \"kind\": \"compute#accessConfig\",\n",
    "          \"name\": \"External NAT\",\n",
    "          \"type\": \"ONE_TO_ONE_NAT\",\n",
    "          \"networkTier\": \"PREMIUM\"\n",
    "        }\n",
    "      ],\n",
    "      \"aliasIpRanges\": []\n",
    "    }\n",
    "  ],\n",
    "  \"description\": \"\",\n",
    "  \"labels\": {\n",
    "    \"goog-dm\": \"nvidia-ngc-image-1\"\n",
    "  },\n",
    "  \"scheduling\": {\n",
    "    \"preemptible\": false,\n",
    "    \"onHostMaintenance\": \"TERMINATE\",\n",
    "    \"automaticRestart\": true,\n",
    "    \"nodeAffinities\": []\n",
    "  },\n",
    "  \"deletionProtection\": false,\n",
    "  \"reservationAffinity\": {\n",
    "    \"consumeReservationType\": \"ANY_RESERVATION\"\n",
    "  },\n",
    "  \"serviceAccounts\": [\n",
    "    {\n",
    "      \"email\": \"669110238078-compute@developer.gserviceaccount.com\",\n",
    "      \"scopes\": [\n",
    "        \"https://www.googleapis.com/auth/cloud-platform\",\n",
    "        \"https://www.googleapis.com/auth/cloud.useraccounts.readonly\",\n",
    "        \"https://www.googleapis.com/auth/cloudruntimeconfig\"\n",
    "      ]\n",
    "    }\n",
    "  ],\n",
    "  \"sourceMachineImage\": \"projects/dauntless-graph-293915/global/machineImages/nvidia-gpu-sc-2\",\n",
    "  \"shieldedInstanceConfig\": {\n",
    "    \"enableSecureBoot\": false,\n",
    "    \"enableVtpm\": true,\n",
    "    \"enableIntegrityMonitoring\": true\n",
    "  },\n",
    "  \"confidentialInstanceConfig\": {\n",
    "    \"enableConfidentialCompute\": false\n",
    "  }\n",
    "}'"
   ]
  },
  {
   "cell_type": "code",
   "execution_count": 95,
   "metadata": {},
   "outputs": [],
   "source": [
    "def create_instance(region, duration, simulation=None, topology=None, trajectory=None):\n",
    "    zone = gcp.get_zone_for_region(region)\n",
    "\n",
    "    machine_type = 'n1-standard-1'\n",
    "    gpu_type = 'nvidia-tesla-p100'\n",
    "    disk_size_gb = '32'\n",
    "\n",
    "    name = 'anuma-isness-{}'.format(utils.generate_short_id())\n",
    "    metadata = [\n",
    "        { 'key': 'google-logging-enabled', 'value': 'true' },\n",
    "        { 'key': 'duration', 'value': duration},\n",
    "        { 'key': 'startup-script', 'value': '#!/bin/bash\\n'}\n",
    "    ]\n",
    "\n",
    "    config = {\n",
    "        \"name\": name,\n",
    "         \"kind\": \"compute#instance\",\n",
    "         \"zone\": \"projects/dauntless-graph-293915/zones/us-east1-b\",\n",
    "        \"minCpuPlatform\": \"Automatic\",\n",
    "        \"machineType\": \"projects/dauntless-graph-293915/zones/us-east1-b/machineTypes/n1-standard-8\",\n",
    "        \"displayDevice\": {\n",
    "            \"enableDisplay\": \"false\"\n",
    "        },\n",
    "        \"guestAccelerators\": [\n",
    "            { \"acceleratorCount\": 1,\n",
    "            \"acceleratorType\": \"projects/dauntless-graph-293915/zones/us-east1-b/acceleratorTypes/nvidia-tesla-p100\" }\n",
    "        ],\n",
    "        \"sourceMachineImage\": \"projects/dauntless-graph-293915/global/machineImages/nvidia-gpu-sc-2\",\n",
    "        \"serviceAccounts\": [\n",
    "            { \"email\": \"669110238078-compute@developer.gserviceaccount.com\",\n",
    "            \"scopes\": [\n",
    "                \"https://www.googleapis.com/auth/cloud-platform\",\n",
    "                \"https://www.googleapis.com/auth/cloud.useraccounts.readonly\",\n",
    "                \"https://www.googleapis.com/auth/cloudruntimeconfig\"\n",
    "            ]\n",
    "        }\n",
    "        ],\n",
    "        \"scheduling\": {\n",
    "            \"preemptible\": \"false\",\n",
    "            \"onHostMaintenance\": \"TERMINATE\",\n",
    "            \"automaticRestart\": \"true\",\n",
    "            \"nodeAffinities\": [] },\n",
    "        \"deletionProtection\": \"false\",\n",
    "        \"reservationAffinity\": {\n",
    "            \"consumeReservationType\": \"ANY_RESERVATION\" },\n",
    "        \"disks\": [{\"type\": \"PERSISTENT\",\n",
    "            \"mode\": \"READ_WRITE\",\n",
    "            'initializeParams': {\n",
    "                'diskType': 'projects/{}/zones/{}/diskTypes/pd-standard'.format(PROJECT, zone),\n",
    "                'sourceImage': 'projects/nvidia-ngc-public/global/images/nvidia-gpu-cloud-image-20200629',\n",
    "                'diskSizeGb': disk_size_gb\n",
    "            },\n",
    "            \"deviceName\": \"nvidia-ngc-image-vm-tmpl-boot-disk\",\n",
    "            \"index\": \"0\",\n",
    "            \"boot\": \"True\",\n",
    "            \"autoDelete\": \"True\",\n",
    "            \"diskSizeGb\": \"32\",\n",
    "            \"kind\": \"compute#attachedDisk\"}],\n",
    "            \"canIpForward\": \"false\",\n",
    "        \"networkInterfaces\": [\n",
    "            {\n",
    "            \"kind\": \"compute#networkInterface\",\n",
    "            \"subnetwork\": \"projects/dauntless-graph-293915/regions/us-east1/subnetworks/default\",\n",
    "            \"accessConfigs\": [\n",
    "                {\n",
    "                \"kind\": \"compute#accessConfig\",\n",
    "                \"name\": \"External NAT\",\n",
    "                \"type\": \"ONE_TO_ONE_NAT\",\n",
    "                \"networkTier\": \"PREMIUM\"\n",
    "                }\n",
    "            ]\n",
    "            }\n",
    "        ]\n",
    "    }\n",
    "    response = gcp.get_compute_client().instances().insert(project=PROJECT, zone=zone, body=config).execute()\n",
    "    response['instanceName'] = name\n",
    "    return response"
   ]
  },
  {
   "cell_type": "code",
   "execution_count": 96,
   "metadata": {},
   "outputs": [
    {
     "output_type": "execute_result",
     "data": {
      "text/plain": [
       "{'id': '2264659484805103208',\n",
       " 'name': 'operation-1605058694744-5b3cad95808b0-40f0412e-0ab3d6bd',\n",
       " 'zone': 'https://www.googleapis.com/compute/v1/projects/dauntless-graph-293915/zones/us-east1-b',\n",
       " 'operationType': 'insert',\n",
       " 'targetLink': 'https://www.googleapis.com/compute/v1/projects/dauntless-graph-293915/zones/us-east1-b/instances/anuma-isness-ksoeak',\n",
       " 'targetId': '6070837928899575401',\n",
       " 'status': 'RUNNING',\n",
       " 'user': '669110238078-compute@developer.gserviceaccount.com',\n",
       " 'progress': 0,\n",
       " 'insertTime': '2020-11-10T17:38:15.480-08:00',\n",
       " 'startTime': '2020-11-10T17:38:15.483-08:00',\n",
       " 'selfLink': 'https://www.googleapis.com/compute/v1/projects/dauntless-graph-293915/zones/us-east1-b/operations/operation-1605058694744-5b3cad95808b0-40f0412e-0ab3d6bd',\n",
       " 'kind': 'compute#operation',\n",
       " 'instanceName': 'anuma-isness-ksoeak'}"
      ]
     },
     "metadata": {},
     "execution_count": 96
    }
   ],
   "source": [
    "create_instance(region, duration, simulation=None, topology=None, trajectory=None)"
   ]
  },
  {
   "cell_type": "code",
   "execution_count": null,
   "metadata": {},
   "outputs": [],
   "source": []
  }
 ]
}